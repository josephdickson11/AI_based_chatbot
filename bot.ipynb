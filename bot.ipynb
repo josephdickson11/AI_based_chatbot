{
 "cells": [
  {
   "cell_type": "code",
   "execution_count": 1,
   "metadata": {},
   "outputs": [
    {
     "data": {
      "text/plain": [
       "<spacy.lang.en.English at 0x208b5d22b48>"
      ]
     },
     "execution_count": 1,
     "metadata": {},
     "output_type": "execute_result"
    }
   ],
   "source": [
    "#import dependencies\n",
    "\n",
    "from chatterbot import ChatBot\n",
    "from chatterbot.trainers import ListTrainer\n",
    "from chatterbot.trainers import ChatterBotCorpusTrainer\n",
    "import spacy\n",
    "spacy.load('en')"
   ]
  },
  {
   "cell_type": "code",
   "execution_count": 2,
   "metadata": {},
   "outputs": [],
   "source": [
    "school_bot = ChatBot(name = 'school_bot',\n",
    "                  read_only = False,                  \n",
    "                  logic_adapters = [\"chatterbot.logic.BestMatch\"],                 \n",
    "                  storage_adapter = \"chatterbot.storage.SQLStorageAdapter\")"
   ]
  },
  {
   "cell_type": "code",
   "execution_count": 3,
   "metadata": {},
   "outputs": [
    {
     "name": "stdout",
     "output_type": "stream",
     "text": [
      "Training ai.yml: [####################] 100%\n",
      "Training botprofile.yml: [####################] 100%\n",
      "Training computers.yml: [####################] 100%\n",
      "Training conversations.yml: [####################] 100%\n",
      "Training emotion.yml: [####################] 100%\n",
      "Training food.yml: [####################] 100%\n",
      "Training gossip.yml: [####################] 100%\n",
      "Training greetings.yml: [####################] 100%\n",
      "Training health.yml: [####################] 100%\n",
      "Training history.yml: [####################] 100%\n",
      "Training humor.yml: [####################] 100%\n",
      "Training literature.yml: [####################] 100%\n",
      "Training money.yml: [####################] 100%\n",
      "Training movies.yml: [####################] 100%\n",
      "Training politics.yml: [####################] 100%\n",
      "Training psychology.yml: [####################] 100%\n",
      "Training science.yml: [####################] 100%\n",
      "Training sports.yml: [####################] 100%\n",
      "Training trivia.yml: [####################] 100%\n"
     ]
    }
   ],
   "source": [
    "corpus_trainer = ChatterBotCorpusTrainer(school_bot)\n",
    "data = r'C:\\\\Users\\USER\\\\Anaconda3\\\\envs\\\\main_bot_env\\\\Lib\\\\site-packages\\\\chatterbot_corpus\\\\data\\\\english'\n",
    "corpus_trainer.train(data)"
   ]
  },
  {
   "cell_type": "code",
   "execution_count": 4,
   "metadata": {},
   "outputs": [],
   "source": [
    "naija_talk = [\n",
    "    \"howfar na\",\n",
    "    \"i dey o baba, whatsup\",\n",
    "    \"nothing much, i just dey one side\",\n",
    "    \"naso, everbody just dey lowkey o\",\n",
    "    \"make God dey help us\",\n",
    "    \"I swear!!\",\n",
    "    \"later na\",\n",
    "    \"e go be!!\"\n",
    "]\n",
    "\n",
    "naija_school_lecture_talk = [\n",
    "    \"Which time be lecture today na\",\n",
    "    \"i no too sabi o but e be like say na 9 this morning\",\n",
    "]\n",
    "\n",
    "naija_school_lecture_end_talk = [\n",
    "    \"which time we dey finish lecture today na\",\n",
    "    \"be like na till 6 o, i swear\"\n",
    "]"
   ]
  },
  {
   "cell_type": "code",
   "execution_count": 5,
   "metadata": {},
   "outputs": [],
   "source": [
    "#initialize trainer object\n",
    "trainer = ListTrainer(school_bot)"
   ]
  },
  {
   "cell_type": "code",
   "execution_count": 6,
   "metadata": {},
   "outputs": [
    {
     "name": "stdout",
     "output_type": "stream",
     "text": [
      "List Trainer: [####################] 100%\n",
      "List Trainer: [####################] 100%\n",
      "List Trainer: [####################] 100%\n"
     ]
    }
   ],
   "source": [
    "#training bot\n",
    "trainer.train(naija_talk)\n",
    "trainer.train(naija_school_lecture_talk)\n",
    "trainer.train(naija_school_lecture_end_talk)"
   ]
  },
  {
   "cell_type": "code",
   "execution_count": 8,
   "metadata": {},
   "outputs": [
    {
     "name": "stdout",
     "output_type": "stream",
     "text": [
      "howfar na\n",
      "i dey o baba, whatsup\n",
      "you are a fool\n",
      "Yes.\n",
      "lol, i said you are a fool\n",
      "I do not think that I have been programmed to emulate the emotion of sadness. I'm sorry.\n",
      "what the fuck?!\n",
      "A man in a mask.\n",
      "gerrout\n",
      "we are on the same wavelength\n",
      "quit\n"
     ]
    }
   ],
   "source": [
    "#test bot\n",
    "\n",
    "while (True):\n",
    "    user_input = input()\n",
    "    if (user_input == 'quit'):\n",
    "        break\n",
    "    response = school_bot.get_response(user_input)\n",
    "    print (response)"
   ]
  },
  {
   "cell_type": "code",
   "execution_count": null,
   "metadata": {},
   "outputs": [],
   "source": []
  }
 ],
 "metadata": {
  "kernelspec": {
   "display_name": "Python 3",
   "language": "python",
   "name": "python3"
  },
  "language_info": {
   "codemirror_mode": {
    "name": "ipython",
    "version": 3
   },
   "file_extension": ".py",
   "mimetype": "text/x-python",
   "name": "python",
   "nbconvert_exporter": "python",
   "pygments_lexer": "ipython3",
   "version": "3.7.9"
  }
 },
 "nbformat": 4,
 "nbformat_minor": 4
}
